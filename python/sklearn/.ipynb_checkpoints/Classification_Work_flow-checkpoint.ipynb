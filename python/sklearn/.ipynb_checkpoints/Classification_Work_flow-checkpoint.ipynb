{
 "metadata": {
  "name": ""
 },
 "nbformat": 3,
 "nbformat_minor": 0,
 "worksheets": [
  {
   "cells": [
    {
     "cell_type": "markdown",
     "metadata": {},
     "source": [
      "##Read in data"
     ]
    },
    {
     "cell_type": "code",
     "collapsed": false,
     "input": [
      "from sklearn import datasets\n",
      "import numpy as np\n",
      "import matplotlib.pyplot as plt\n",
      "\n",
      "iris = datasets.load_iris()\n",
      "X_iris, y_iris = iris.data, iris.target\n",
      "print X_iris.shape, y_iris.shape\n",
      "print X_iris[0], y_iris[0], np.unique(y_iris)"
     ],
     "language": "python",
     "metadata": {},
     "outputs": [
      {
       "output_type": "stream",
       "stream": "stdout",
       "text": [
        "(150, 4) (150,)\n",
        "[ 5.1  3.5  1.4  0.2] 0 [0 1 2]\n"
       ]
      }
     ],
     "prompt_number": 9
    },
    {
     "cell_type": "markdown",
     "metadata": {},
     "source": [
      "##Plot data"
     ]
    },
    {
     "cell_type": "code",
     "collapsed": false,
     "input": [
      "colors = ['red', 'greenyellow', 'blue']\n",
      "\n",
      "for i in xrange(len(colors)):\n",
      "    px = X_iris[:, 0][y_iris == i]\n",
      "    py = X_iris[:, 1][y_iris == i]\n",
      "    plt.scatter(px, py, c=colors[i])\n",
      "\n",
      "plt.legend(iris.target_names)\n",
      "plt.xlabel('Sepal length')\n",
      "plt.ylabel('Sepal width')\n",
      "plt.show()"
     ],
     "language": "python",
     "metadata": {},
     "outputs": [],
     "prompt_number": 17
    },
    {
     "cell_type": "markdown",
     "metadata": {},
     "source": [
      "##Divide data into training and testing set"
     ]
    },
    {
     "cell_type": "code",
     "collapsed": false,
     "input": [
      "from sklearn.cross_validation import train_test_split\n",
      "\n",
      "# Get dataset with only the first two attributes\n",
      "X, y = X_iris[:,:2], y_iris\n",
      "# Split the dataset into a trainig and a testing set\n",
      "# Test set will be the 25% taken randomly\n",
      "X_train, X_test, y_train, y_test = train_test_split(X, y, test_size=0.25, random_state=33)\n",
      "print X_train.shape, y_train.shape\n",
      "print X_train.mean(), X_train.std()"
     ],
     "language": "python",
     "metadata": {},
     "outputs": [
      {
       "output_type": "stream",
       "stream": "stdout",
       "text": [
        "(112, 2) (112,)\n",
        "4.41964285714 1.53080506864\n"
       ]
      }
     ],
     "prompt_number": 6
    },
    {
     "cell_type": "markdown",
     "metadata": {},
     "source": [
      "##Preprocessing data"
     ]
    },
    {
     "cell_type": "code",
     "collapsed": false,
     "input": [
      "from sklearn.preprocessing import StandardScaler\n",
      "# Standarize the features\n",
      "scaler = StandardScaler().fit(X_train)\n",
      "X_train = scaler.transform(X_train)\n",
      "\n",
      "X_test = scaler.transform(X_test)\n",
      "print X_train.mean(), X_train.std()"
     ],
     "language": "python",
     "metadata": {},
     "outputs": [
      {
       "output_type": "stream",
       "stream": "stdout",
       "text": [
        "1.74463618155e-15 1.0\n"
       ]
      }
     ],
     "prompt_number": 7
    },
    {
     "cell_type": "markdown",
     "metadata": {},
     "source": [
      "##Train with Algorithm"
     ]
    },
    {
     "cell_type": "code",
     "collapsed": false,
     "input": [
      "# create the linear model classifier\n",
      "from sklearn.linear_model import SGDClassifier\n",
      "clf = SGDClassifier()\n",
      "# fit (train) the classifier\n",
      "clf.fit(X_train, y_train)\n",
      "# print learned coeficients\n",
      "print clf.coef_\n",
      "print clf.intercept_"
     ],
     "language": "python",
     "metadata": {},
     "outputs": [
      {
       "output_type": "stream",
       "stream": "stdout",
       "text": [
        "[[-28.56232699  15.06870628]\n",
        " [ -8.94402784  -8.14000854]\n",
        " [ 14.04159132 -12.8156682 ]]\n",
        "[-17.62477802  -2.35658325  -9.7570213 ]\n"
       ]
      }
     ],
     "prompt_number": 18
    },
    {
     "cell_type": "markdown",
     "metadata": {},
     "source": [
      "##Plot the desicion curve"
     ]
    },
    {
     "cell_type": "code",
     "collapsed": false,
     "input": [
      "x_min, x_max = X_train[:, 0].min() - .5, X_train[:, 0].max() + .5\n",
      "y_min, y_max = X_train[:, 1].min() - .5, X_train[:, 1].max() + .5\n",
      "xs = np.arange(x_min,x_max,0.5)\n",
      "fig, axes = plt.subplots(1,3)\n",
      "fig.set_size_inches(10,6)\n",
      "for i in [0,1,2]:\n",
      "    axes[i].set_aspect('equal')\n",
      "    axes[i].set_title('Class ' + str(i) + ' versus the rest')\n",
      "    axes[i].set_xlabel('Sepal length')\n",
      "    axes[i].set_ylabel('Sepal width')\n",
      "    axes[i].set_xlim(x_min, x_max)\n",
      "    axes[i].set_ylim(y_min, y_max)\n",
      "    plt.sca(axes[i])\n",
      "    for j in xrange(len(colors)):\n",
      "        px = X_train[:, 0][y_train == j]\n",
      "        py = X_train[:, 1][y_train == j]\n",
      "        plt.scatter(px, py, c=colors[j])\n",
      "    ys = (-clf.intercept_[i]-xs*clf.coef_[i,0])/clf.coef_[i,1]\n",
      "    plt.plot(xs,ys,hold=True)\n",
      "plt.show()"
     ],
     "language": "python",
     "metadata": {},
     "outputs": [],
     "prompt_number": 26
    },
    {
     "cell_type": "markdown",
     "metadata": {},
     "source": [
      "##Evaluate single case"
     ]
    },
    {
     "cell_type": "code",
     "collapsed": false,
     "input": [
      "print clf.predict(scaler.transform([[4.7, 3.1]]))\n",
      "#the decision_function gives a confidence score for each class\n",
      "print clf.decision_function(scaler.transform([[4.7, 3.1]]))"
     ],
     "language": "python",
     "metadata": {},
     "outputs": [
      {
       "output_type": "stream",
       "stream": "stdout",
       "text": [
        "[0]\n",
        "[[ 19.77232705   8.13983962 -28.65250296]]\n"
       ]
      }
     ],
     "prompt_number": 29
    },
    {
     "cell_type": "markdown",
     "metadata": {},
     "source": [
      "##Evaluate the performance on test data"
     ]
    },
    {
     "cell_type": "code",
     "collapsed": false,
     "input": [
      "from sklearn import metrics\n",
      "y_pred = clf.predict(X_test)\n",
      "print metrics.accuracy_score(y_test, y_pred)"
     ],
     "language": "python",
     "metadata": {},
     "outputs": [
      {
       "output_type": "stream",
       "stream": "stdout",
       "text": [
        "0.684210526316\n"
       ]
      }
     ],
     "prompt_number": 31
    },
    {
     "cell_type": "markdown",
     "metadata": {},
     "source": [
      "##Evaluate the results"
     ]
    },
    {
     "cell_type": "code",
     "collapsed": false,
     "input": [
      "print metrics.classification_report(y_test, y_pred, target_names=iris.target_names)\n",
      "print metrics.confusion_matrix(y_test, y_pred)"
     ],
     "language": "python",
     "metadata": {},
     "outputs": [
      {
       "output_type": "stream",
       "stream": "stdout",
       "text": [
        "             precision    recall  f1-score   support\n",
        "\n",
        "     setosa       1.00      1.00      1.00         8\n",
        " versicolor       0.43      0.27      0.33        11\n",
        "  virginica       0.65      0.79      0.71        19\n",
        "\n",
        "avg / total       0.66      0.68      0.66        38\n",
        "\n",
        "[[ 8  0  0]\n",
        " [ 0  3  8]\n",
        " [ 0  4 15]]\n"
       ]
      }
     ],
     "prompt_number": 34
    },
    {
     "cell_type": "markdown",
     "metadata": {},
     "source": [
      "##Pipe everything together and do a KFold cross validation"
     ]
    },
    {
     "cell_type": "code",
     "collapsed": false,
     "input": [
      "from sklearn.cross_validation import cross_val_score, KFold\n",
      "from sklearn.pipeline import Pipeline\n",
      "\n",
      "# create a composite estimator made by a pipeline of the standarization and the linear model\n",
      "clf = Pipeline([\n",
      "        ('scaler', StandardScaler()),\n",
      "        ('linear_model', SGDClassifier())\n",
      "])\n",
      "# create a k-fold croos validation iterator of k=5 folds\n",
      "cv = KFold(X.shape[0], 5, shuffle=True, random_state=33)\n",
      "# by default the score used is the one returned by score method of the estimator (accuracy)\n",
      "scores = cross_val_score(clf, X, y, cv=cv)\n",
      "print scores"
     ],
     "language": "python",
     "metadata": {},
     "outputs": [
      {
       "output_type": "stream",
       "stream": "stdout",
       "text": [
        "[ 0.73333333  0.63333333  0.73333333  0.66666667  0.6       ]\n"
       ]
      }
     ],
     "prompt_number": 43
    },
    {
     "cell_type": "code",
     "collapsed": false,
     "input": [],
     "language": "python",
     "metadata": {},
     "outputs": [],
     "prompt_number": 43
    },
    {
     "cell_type": "code",
     "collapsed": false,
     "input": [],
     "language": "python",
     "metadata": {},
     "outputs": []
    }
   ],
   "metadata": {}
  }
 ]
}
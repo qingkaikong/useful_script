{
 "metadata": {
  "name": ""
 },
 "nbformat": 3,
 "nbformat_minor": 0,
 "worksheets": [
  {
   "cells": [
    {
     "cell_type": "markdown",
     "metadata": {},
     "source": [
      "##First do a linear Regression directly from the Normal euqation"
     ]
    },
    {
     "cell_type": "code",
     "collapsed": false,
     "input": [
      "import numpy as np\n",
      "import matplotlib.pyplot as plt"
     ],
     "language": "python",
     "metadata": {},
     "outputs": [],
     "prompt_number": 19
    },
    {
     "cell_type": "code",
     "collapsed": false,
     "input": [
      "X = [[1, 6, 2], [1, 8, 1], [1, 10, 0], [1, 14, 2], [1, 18, 0]]\n",
      "y = [[7], [9], [13], [17.5], [18]]"
     ],
     "language": "python",
     "metadata": {},
     "outputs": [],
     "prompt_number": 7
    },
    {
     "cell_type": "code",
     "collapsed": false,
     "input": [
      "print np.dot(np.linalg.inv(np.dot(np.transpose(X), X)), np.dot(np.transpose(X), y))"
     ],
     "language": "python",
     "metadata": {},
     "outputs": [
      {
       "output_type": "stream",
       "stream": "stdout",
       "text": [
        "[[ 1.1875    ]\n",
        " [ 1.01041667]\n",
        " [ 0.39583333]]\n"
       ]
      }
     ],
     "prompt_number": 8
    },
    {
     "cell_type": "markdown",
     "metadata": {},
     "source": [
      "##Linear regression using least square "
     ]
    },
    {
     "cell_type": "code",
     "collapsed": false,
     "input": [
      "print np.linalg.lstsq(X, y)[0]"
     ],
     "language": "python",
     "metadata": {},
     "outputs": [
      {
       "output_type": "stream",
       "stream": "stdout",
       "text": [
        "[[ 1.1875    ]\n",
        " [ 1.01041667]\n",
        " [ 0.39583333]]\n"
       ]
      }
     ],
     "prompt_number": 10
    },
    {
     "cell_type": "markdown",
     "metadata": {},
     "source": [
      "##Linear regression using sklearn"
     ]
    },
    {
     "cell_type": "code",
     "collapsed": false,
     "input": [
      "from sklearn.linear_model import LinearRegression"
     ],
     "language": "python",
     "metadata": {},
     "outputs": [],
     "prompt_number": 11
    },
    {
     "cell_type": "code",
     "collapsed": false,
     "input": [
      "X = [[6, 2], [8, 1], [10, 0], [14, 2], [18, 0]]\n",
      "y = [[7],    [9],    [13],    [17.5],  [18]]\n",
      "X_test = [[8, 2], [9, 0], [11, 2], [16, 2], [12, 0]]\n",
      "y_test = [[11],   [8.5],  [15],    [18],    [11]]"
     ],
     "language": "python",
     "metadata": {},
     "outputs": [],
     "prompt_number": 15
    },
    {
     "cell_type": "code",
     "collapsed": false,
     "input": [
      "model = LinearRegression()\n",
      "model.fit(X, y)\n"
     ],
     "language": "python",
     "metadata": {},
     "outputs": [
      {
       "metadata": {},
       "output_type": "pyout",
       "prompt_number": 17,
       "text": [
        "LinearRegression(copy_X=True, fit_intercept=True, normalize=False)"
       ]
      }
     ],
     "prompt_number": 17
    },
    {
     "cell_type": "code",
     "collapsed": false,
     "input": [
      "predictions = model.predict(X_test)\n",
      "for i, prediction in enumerate(predictions):\n",
      "    print 'Predicted: %s, Target: %s' % (prediction, y_test[i])\n",
      "print 'R-squared: %.2f' % model.score(X_test, y_test)"
     ],
     "language": "python",
     "metadata": {},
     "outputs": [
      {
       "output_type": "stream",
       "stream": "stdout",
       "text": [
        "Predicted: [ 10.0625], Target: [11]\n",
        "Predicted: [ 10.28125], Target: [8.5]\n",
        "Predicted: [ 13.09375], Target: [15]\n",
        "Predicted: [ 18.14583333], Target: [18]\n",
        "Predicted: [ 13.3125], Target: [11]\n",
        "R-squared: 0.77\n"
       ]
      }
     ],
     "prompt_number": 18
    },
    {
     "cell_type": "markdown",
     "metadata": {},
     "source": [
      "##Polynomial regression"
     ]
    },
    {
     "cell_type": "code",
     "collapsed": false,
     "input": [
      "from sklearn.preprocessing import PolynomialFeatures"
     ],
     "language": "python",
     "metadata": {},
     "outputs": [],
     "prompt_number": 20
    },
    {
     "cell_type": "code",
     "collapsed": false,
     "input": [
      "X_train = [[6], [8], [10], [14],   [18]]\n",
      "y_train = [[7], [9], [13], [17.5], [18]]\n",
      "X_test = [[6],  [8],   [11], [16]]\n",
      "y_test = [[8], [12], [15], [18]]"
     ],
     "language": "python",
     "metadata": {},
     "outputs": [],
     "prompt_number": 21
    },
    {
     "cell_type": "code",
     "collapsed": false,
     "input": [
      "quadratic_featurizer = PolynomialFeatures(degree=2)\n",
      "X_train_quadratic = quadratic_featurizer.fit_transform(X_train)\n",
      "X_test_quadratic = quadratic_featurizer.transform(X_test)"
     ],
     "language": "python",
     "metadata": {},
     "outputs": [],
     "prompt_number": 23
    },
    {
     "cell_type": "code",
     "collapsed": false,
     "input": [
      "regressor_quadratic = LinearRegression()\n",
      "regressor_quadratic.fit(X_train_quadratic, y_train)\n",
      "xx = np.linspace(0, 26, 100)\n",
      "xx_quadratic = quadratic_featurizer.transform(xx.reshape(xx.shape[0], 1))\n",
      "\n",
      "plt.plot(xx, regressor_quadratic.predict(xx_quadratic), c='r',\n",
      "   linestyle='--')\n",
      "plt.title('Pizza price regressed on diameter')\n",
      "plt.xlabel('Diameter in inches')\n",
      "plt.ylabel('Price in dollars')\n",
      "plt.axis([0, 25, 0, 25])\n",
      "plt.grid(True)\n",
      "plt.scatter(X_train, y_train)\n",
      "plt.show()"
     ],
     "language": "python",
     "metadata": {},
     "outputs": [],
     "prompt_number": 28
    },
    {
     "cell_type": "code",
     "collapsed": false,
     "input": [],
     "language": "python",
     "metadata": {},
     "outputs": []
    }
   ],
   "metadata": {}
  }
 ]
}
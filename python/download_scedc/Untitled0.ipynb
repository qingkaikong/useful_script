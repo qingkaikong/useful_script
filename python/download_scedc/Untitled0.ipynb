{
 "metadata": {
  "name": ""
 },
 "nbformat": 3,
 "nbformat_minor": 0,
 "worksheets": [
  {
   "cells": [
    {
     "cell_type": "code",
     "collapsed": false,
     "input": [
      "import urllib\n",
      "import urllib2"
     ],
     "language": "python",
     "metadata": {},
     "outputs": [],
     "prompt_number": 1
    },
    {
     "cell_type": "code",
     "collapsed": false,
     "input": [
      "url = 'http://www.data.scec.org/fdsnws/dataselect/1/query?outputformat=sac&requesttype=continuous&selection=CI+BAK+BHE+--+2014%2F01%2F01%2C00%3A00%3A00+2014%2F01%2F01%2C01%3A00%3A00&eventselection=11328922+11328930+14607652+15200401&Submit=Submit'"
     ],
     "language": "python",
     "metadata": {},
     "outputs": [],
     "prompt_number": 3
    },
    {
     "cell_type": "code",
     "collapsed": false,
     "input": [
      "url = 'http://www.data.scec.org/fdsnws/dataselect/1/query?outputformat=sac&requesttype=continuous&selection=CI+BAK+BHE+--+2014%2F01%2F01%2C00%3A00%3A00+2014%2F01%2F01%2C01%3A00%3A00'"
     ],
     "language": "python",
     "metadata": {},
     "outputs": [],
     "prompt_number": 13
    },
    {
     "cell_type": "code",
     "collapsed": false,
     "input": [
      "response = urllib2.urlopen(url)\n",
      "#html = response.read()"
     ],
     "language": "python",
     "metadata": {},
     "outputs": [],
     "prompt_number": 15
    },
    {
     "cell_type": "code",
     "collapsed": false,
     "input": [
      "print 'URL     :', response.geturl()"
     ],
     "language": "python",
     "metadata": {},
     "outputs": [
      {
       "output_type": "stream",
       "stream": "stdout",
       "text": [
        "URL     : http://www.data.scec.org/fdsnws/dataselect/1/query?outputformat=sac&requesttype=continuous&selection=CI+BAK+BHE+--+2014%2F01%2F01%2C00%3A00%3A00+2014%2F01%2F01%2C01%3A00%3A00\n"
       ]
      }
     ],
     "prompt_number": 16
    },
    {
     "cell_type": "code",
     "collapsed": false,
     "input": [],
     "language": "python",
     "metadata": {},
     "outputs": []
    }
   ],
   "metadata": {}
  }
 ]
}
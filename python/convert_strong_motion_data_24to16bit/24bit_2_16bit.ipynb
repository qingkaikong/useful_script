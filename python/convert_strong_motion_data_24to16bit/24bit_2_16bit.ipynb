{
 "metadata": {
  "name": ""
 },
 "nbformat": 3,
 "nbformat_minor": 0,
 "worksheets": [
  {
   "cells": [
    {
     "cell_type": "code",
     "collapsed": false,
     "input": [
      "import matplotlib.pyplot as plt\n",
      "import numpy as np\n",
      "import pickle"
     ],
     "language": "python",
     "metadata": {},
     "outputs": [],
     "prompt_number": 1
    },
    {
     "cell_type": "code",
     "collapsed": false,
     "input": [
      "#Let's first create a toy example\n",
      "test = np.array([10,14,15,16,17,18,24,32,33,34,100],dtype=np.int32)\n",
      "print test\n",
      "\n",
      "#now shift 4 bit right and shift back\n",
      "print test >> 4 << 4"
     ],
     "language": "python",
     "metadata": {},
     "outputs": [
      {
       "output_type": "stream",
       "stream": "stdout",
       "text": [
        "[ 10  14  15  16  17  18  24  32  33  34 100]\n",
        "[ 0  0  0 16 16 16 16 32 32 32 96]\n"
       ]
      }
     ],
     "prompt_number": 5
    },
    {
     "cell_type": "code",
     "collapsed": false,
     "input": [
      "#change the data to milli-Volt\n",
      "#now if I have a 24 bit dada that have a sensitiviy 9.97 v/g\n",
      "#read in data\n",
      "data = pickle.load( open( \"data.p\", \"rb\" ) )\n",
      "#change to milli volt \n",
      "data_milliVolt = np.array(data)* 10**6 * 9.97\n"
     ],
     "language": "python",
     "metadata": {},
     "outputs": [],
     "prompt_number": 2
    },
    {
     "cell_type": "code",
     "collapsed": false,
     "input": [
      "#shift the binary 8 bit to the right, and the shift it back, this\n",
      "#will convert 24bit data to 16bit data\n",
      "converted_data = data_milliVolt.astype(np.int32) >> 8 << 8\n",
      "converted_data = converted_data / 9.97 / 10**6"
     ],
     "language": "python",
     "metadata": {},
     "outputs": [],
     "prompt_number": 8
    },
    {
     "cell_type": "code",
     "collapsed": false,
     "input": [
      "plt.plot(data, label = 'Raw data')\n",
      "plt.plot(converted_data, label = 'Converted data')\n",
      "plt.legend()\n",
      "plt.show()"
     ],
     "language": "python",
     "metadata": {},
     "outputs": [],
     "prompt_number": 9
    },
    {
     "cell_type": "code",
     "collapsed": false,
     "input": [
      "#shift the binary 8 bit to the right, and the shift it back, this\n",
      "#will convert 24bit data to 12bit data\n",
      "converted_data = data_milliVolt.astype(np.int32) >> 12 << 12\n",
      "converted_data = converted_data / 9.97 / 10**6"
     ],
     "language": "python",
     "metadata": {},
     "outputs": [],
     "prompt_number": 16
    },
    {
     "cell_type": "code",
     "collapsed": false,
     "input": [
      "plt.plot(data)\n",
      "plt.plot(converted_data)\n",
      "plt.show()"
     ],
     "language": "python",
     "metadata": {},
     "outputs": [],
     "prompt_number": 17
    },
    {
     "cell_type": "code",
     "collapsed": false,
     "input": [],
     "language": "python",
     "metadata": {},
     "outputs": []
    }
   ],
   "metadata": {}
  }
 ]
}
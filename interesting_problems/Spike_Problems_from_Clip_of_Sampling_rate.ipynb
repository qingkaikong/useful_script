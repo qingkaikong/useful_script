{
 "metadata": {
  "name": ""
 },
 "nbformat": 3,
 "nbformat_minor": 0,
 "worksheets": [
  {
   "cells": [
    {
     "cell_type": "code",
     "collapsed": false,
     "input": [
      "import numpy as np\n",
      "import matplotlib.pyplot as plt\n",
      "from scipy import fft, arange"
     ],
     "language": "python",
     "metadata": {},
     "outputs": [],
     "prompt_number": 3
    },
    {
     "cell_type": "markdown",
     "metadata": {},
     "source": [
      "###The background is: Phil asked me to come over to talk one weird thing they observed during a rebar impact test, here is the background of the tests: You hang the rebar, attach an accelerometer at one end, and use a hammer to strike the rebar at the other end. Then from the acceleration data, you can see a spike at 1800 Hz which is the natural frequency of the rebar. But the student observed interesting things from the data, if he use 10,000 Hz sampling rate, it is good. But when he goes to 20000 Hz, there's a small spike at higher frequency and seems mirror from the main peak. And if he goes to 40000Hz, he observed another 3 small spike at higher frequencies. What's the orgiin of the small spikes? Are they real? Then we discussed, and went to look at the raw acceleration data, we found that the data sampled at 40000Hz had some problem, each data point is repeat 4 times in terms of the value, but the timestamp is still at 1/40000 interval, this seems a sampling clip, and I did a synethetic test, and reproduce the thing we observed from the tests, it is the sampling rate issue, you can not go above 10,000Hz, otherwise, it will use the same value to fill in the gaps. But this is a very interesting problem. "
     ]
    },
    {
     "cell_type": "code",
     "collapsed": false,
     "input": [
      "def plotSpectrum(y,Fs):\n",
      " \"\"\"\n",
      " Plots a Single-Sided Amplitude Spectrum of y(t)\n",
      " \"\"\"\n",
      " n = len(y) # length of the signal\n",
      " k = arange(n)\n",
      " T = n/Fs\n",
      " frq = k/T # two sides frequency range\n",
      " frq = frq[range(n/2)] # one side frequency range\n",
      "\n",
      " Y = fft(y)/n # fft computing and normalization\n",
      " Y = Y[range(n/2)]\n",
      " \n",
      " plt.plot(frq,abs(Y),'r') # plotting the spectrum\n",
      " plt.xlabel('Freq (Hz)')\n",
      " plt.ylabel('|Y(freq)|')\n",
      "\n",
      "def add_clip(y, n):\n",
      "    '''\n",
      "    Function to generate the clip sampling rate data, basically it repeat each data point n times. \n",
      "    '''\n",
      "    return np.array(y).repeat(n)"
     ],
     "language": "python",
     "metadata": {},
     "outputs": [],
     "prompt_number": 18
    },
    {
     "cell_type": "code",
     "collapsed": false,
     "input": [
      "Fs = 10000.0;  # sampling rate\n",
      "Ts = 1.0/Fs; # sampling interval\n",
      "t = arange(0,1,Ts) # time vector\n",
      "\n",
      "ff = 1800;   # frequency of the signal\n",
      "y = np.sin(2*np.pi*ff*t)\n",
      "\n",
      "\n",
      "n = 3\n",
      "y_clip = add_clip(y, n)\n",
      "plotSpectrum(y_clip,Fs*n)\n",
      "plt.show()"
     ],
     "language": "python",
     "metadata": {},
     "outputs": [],
     "prompt_number": 32
    },
    {
     "cell_type": "code",
     "collapsed": false,
     "input": [
      "y_clip"
     ],
     "language": "python",
     "metadata": {},
     "outputs": [
      {
       "metadata": {},
       "output_type": "pyout",
       "prompt_number": 8,
       "text": [
        "array([ 0.        ,  0.        ,  0.90482705, ..., -0.77051324,\n",
        "       -0.90482705, -0.90482705])"
       ]
      }
     ],
     "prompt_number": 8
    },
    {
     "cell_type": "markdown",
     "metadata": {},
     "source": [
      "##Dig more "
     ]
    },
    {
     "cell_type": "markdown",
     "metadata": {},
     "source": [
      "###Use a low freq. sine wave as example"
     ]
    },
    {
     "cell_type": "code",
     "collapsed": false,
     "input": [
      "Fs = 50.0;  # sampling rate\n",
      "Ts = 1.0/Fs; # sampling interval\n",
      "t = arange(0,1,Ts) # time vector\n",
      "\n",
      "ff = 5;   # frequency of the signal\n",
      "y = np.sin(2*np.pi*ff*t)\n",
      "\n",
      "\n",
      "n = 2\n",
      "y_clip = add_clip(y, n)\n",
      "plotSpectrum(y_clip,Fs*n)\n",
      "plt.show()"
     ],
     "language": "python",
     "metadata": {},
     "outputs": [],
     "prompt_number": "*"
    },
    {
     "cell_type": "code",
     "collapsed": false,
     "input": [
      "plt.plot(y_clip)\n",
      "plt.show()"
     ],
     "language": "python",
     "metadata": {},
     "outputs": [],
     "prompt_number": 31
    },
    {
     "cell_type": "code",
     "collapsed": false,
     "input": [],
     "language": "python",
     "metadata": {},
     "outputs": []
    }
   ],
   "metadata": {}
  }
 ]
}